{
  "nbformat": 4,
  "nbformat_minor": 0,
  "metadata": {
    "colab": {
      "provenance": [],
      "toc_visible": true,
      "include_colab_link": true
    },
    "kernelspec": {
      "name": "python3",
      "display_name": "Python 3"
    },
    "language_info": {
      "name": "python"
    }
  },
  "cells": [
    {
      "cell_type": "markdown",
      "metadata": {
        "id": "view-in-github",
        "colab_type": "text"
      },
      "source": [
        "<a href=\"https://colab.research.google.com/github/Saikiranreddy31/Machine-Learning/blob/main/Ensemble.ipynb\" target=\"_parent\"><img src=\"https://colab.research.google.com/assets/colab-badge.svg\" alt=\"Open In Colab\"/></a>"
      ]
    },
    {
      "cell_type": "code",
      "execution_count": null,
      "metadata": {
        "colab": {
          "base_uri": "https://localhost:8080/"
        },
        "id": "QBWRjGWzfySX",
        "outputId": "e7611ba2-bfe4-4bf0-faee-7530346ff998"
      },
      "outputs": [
        {
          "output_type": "stream",
          "name": "stdout",
          "text": [
            "Ensemble accuracy: 0.9649122807017544\n"
          ]
        }
      ],
      "source": [
        "from sklearn.datasets import load_breast_cancer\n",
        "from sklearn.model_selection import train_test_split\n",
        "from sklearn.ensemble import RandomForestClassifier,GradientBoostingClassifier, AdaBoostClassifier, VotingClassifier\n",
        "# Load breast cancer dataset and split into training and test sets\n",
        "data = load_breast_cancer()\n",
        "X_train, X_test, y_train, y_test = train_test_split(data.data, data.target,\n",
        "test_size=0.2, random_state=42)\n",
        "# Build three different ensemble models\n",
        "rf = RandomForestClassifier(n_estimators=100, max_depth=5,\n",
        "random_state=42)\n",
        "gb = GradientBoostingClassifier(n_estimators=100, max_depth=5,\n",
        "learning_rate=0.1, random_state=42)\n",
        "ab = AdaBoostClassifier(n_estimators=100, learning_rate=0.1,\n",
        "random_state=42)\n",
        "# Build an ensemble of the three models using a voting classifier\n",
        "ensemble = VotingClassifier(estimators=[('rf', rf), ('gb', gb), ('ab', ab)],\n",
        "voting='hard')\n",
        "# Fit the ensemble model to the training data and evaluate on the test data\n",
        "ensemble.fit(X_train, y_train)\n",
        "accuracy = ensemble.score(X_test, y_test)\n",
        "print(f\"Ensemble accuracy: {accuracy}\")"
      ]
    },
    {
      "cell_type": "code",
      "source": [
        "from sklearn.datasets import load_breast_cancer\n",
        "from sklearn.model_selection import train_test_split\n",
        "from sklearn.ensemble import RandomForestClassifier,GradientBoostingClassifier, AdaBoostClassifier,VotingClassifier\n",
        "data = load_breast_cancer()\n",
        "X_train, X_test, y_train, y_test = train_test_split(data.data,\n",
        "data.target,test_size=0.2, random_state=42)\n",
        "rf = RandomForestClassifier(n_estimators=100, max_depth=5,random_state=42)\n",
        "gb = GradientBoostingClassifier(n_estimators=100,\n",
        "max_depth=5,learning_rate=0.1, random_state=42)\n",
        "ab = AdaBoostClassifier(n_estimators=100, learning_rate=0.1,random_state=42)\n",
        "ensemble = VotingClassifier(estimators=[('rf', rf), ('gb', gb), ('ab',\n",
        "ab)],voting='hard')\n",
        "ensemble.fit(X_train, y_train)\n",
        "accuracy = ensemble.score(X_test, y_test)\n",
        "print(f\"Ensemble accuracy: {accuracy}\")"
      ],
      "metadata": {
        "colab": {
          "base_uri": "https://localhost:8080/"
        },
        "id": "KwGzWuoM5LkD",
        "outputId": "e3e83591-43b8-4302-80a0-96f5310759f5"
      },
      "execution_count": null,
      "outputs": [
        {
          "output_type": "stream",
          "name": "stdout",
          "text": [
            "Ensemble accuracy: 0.9649122807017544\n"
          ]
        }
      ]
    }
  ]
}